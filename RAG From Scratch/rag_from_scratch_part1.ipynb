{
 "cells": [
  {
   "cell_type": "markdown",
   "metadata": {},
   "source": [
    "# RAG from Scratch"
   ]
  },
  {
   "cell_type": "markdown",
   "metadata": {},
   "source": [
    "## Enviroment\n",
    "\n",
    "- OPENAI api와 langchain api는 `.env` 파일에 저장하기"
   ]
  },
  {
   "cell_type": "code",
   "execution_count": 2,
   "metadata": {},
   "outputs": [
    {
     "name": "stdout",
     "output_type": "stream",
     "text": [
      "Requirement already satisfied: langchain_community in /home/minyoungxi/.local/share/virtualenvs/LLM_Langchain_APP-7aD6jX0r/lib/python3.10/site-packages (0.2.4)\n",
      "Requirement already satisfied: tiktoken in /home/minyoungxi/.local/share/virtualenvs/LLM_Langchain_APP-7aD6jX0r/lib/python3.10/site-packages (0.7.0)\n",
      "Requirement already satisfied: langchain-openai in /home/minyoungxi/.local/share/virtualenvs/LLM_Langchain_APP-7aD6jX0r/lib/python3.10/site-packages (0.1.8)\n",
      "Collecting langchainhub\n",
      "  Downloading langchainhub-0.1.17-py3-none-any.whl.metadata (621 bytes)\n",
      "Requirement already satisfied: chromadb in /home/minyoungxi/.local/share/virtualenvs/LLM_Langchain_APP-7aD6jX0r/lib/python3.10/site-packages (0.4.22)\n",
      "Requirement already satisfied: langchain in /home/minyoungxi/.local/share/virtualenvs/LLM_Langchain_APP-7aD6jX0r/lib/python3.10/site-packages (0.2.3)\n",
      "Requirement already satisfied: PyYAML>=5.3 in /home/minyoungxi/.local/share/virtualenvs/LLM_Langchain_APP-7aD6jX0r/lib/python3.10/site-packages (from langchain_community) (6.0.1)\n",
      "Requirement already satisfied: SQLAlchemy<3,>=1.4 in /home/minyoungxi/.local/share/virtualenvs/LLM_Langchain_APP-7aD6jX0r/lib/python3.10/site-packages (from langchain_community) (2.0.21)\n",
      "Requirement already satisfied: aiohttp<4.0.0,>=3.8.3 in /home/minyoungxi/.local/share/virtualenvs/LLM_Langchain_APP-7aD6jX0r/lib/python3.10/site-packages (from langchain_community) (3.8.5)\n",
      "Requirement already satisfied: dataclasses-json<0.7,>=0.5.7 in /home/minyoungxi/.local/share/virtualenvs/LLM_Langchain_APP-7aD6jX0r/lib/python3.10/site-packages (from langchain_community) (0.6.3)\n",
      "Requirement already satisfied: langchain-core<0.3.0,>=0.2.0 in /home/minyoungxi/.local/share/virtualenvs/LLM_Langchain_APP-7aD6jX0r/lib/python3.10/site-packages (from langchain_community) (0.2.5)\n",
      "Requirement already satisfied: langsmith<0.2.0,>=0.1.0 in /home/minyoungxi/.local/share/virtualenvs/LLM_Langchain_APP-7aD6jX0r/lib/python3.10/site-packages (from langchain_community) (0.1.75)\n",
      "Requirement already satisfied: numpy<2,>=1 in /home/minyoungxi/.local/share/virtualenvs/LLM_Langchain_APP-7aD6jX0r/lib/python3.10/site-packages (from langchain_community) (1.26.0)\n",
      "Requirement already satisfied: requests<3,>=2 in /home/minyoungxi/.local/share/virtualenvs/LLM_Langchain_APP-7aD6jX0r/lib/python3.10/site-packages (from langchain_community) (2.31.0)\n",
      "Requirement already satisfied: tenacity<9.0.0,>=8.1.0 in /home/minyoungxi/.local/share/virtualenvs/LLM_Langchain_APP-7aD6jX0r/lib/python3.10/site-packages (from langchain_community) (8.2.3)\n",
      "Requirement already satisfied: regex>=2022.1.18 in /home/minyoungxi/.local/share/virtualenvs/LLM_Langchain_APP-7aD6jX0r/lib/python3.10/site-packages (from tiktoken) (2023.12.25)\n",
      "Requirement already satisfied: openai<2.0.0,>=1.26.0 in /home/minyoungxi/.local/share/virtualenvs/LLM_Langchain_APP-7aD6jX0r/lib/python3.10/site-packages (from langchain-openai) (1.32.0)\n",
      "Collecting types-requests<3.0.0.0,>=2.31.0.2 (from langchainhub)\n",
      "  Downloading types_requests-2.32.0.20240602-py3-none-any.whl.metadata (1.8 kB)\n",
      "Requirement already satisfied: build>=1.0.3 in /home/minyoungxi/.local/share/virtualenvs/LLM_Langchain_APP-7aD6jX0r/lib/python3.10/site-packages (from chromadb) (1.0.3)\n",
      "Requirement already satisfied: pydantic>=1.9 in /home/minyoungxi/.local/share/virtualenvs/LLM_Langchain_APP-7aD6jX0r/lib/python3.10/site-packages (from chromadb) (2.3.0)\n",
      "Requirement already satisfied: chroma-hnswlib==0.7.3 in /home/minyoungxi/.local/share/virtualenvs/LLM_Langchain_APP-7aD6jX0r/lib/python3.10/site-packages (from chromadb) (0.7.3)\n",
      "Requirement already satisfied: fastapi>=0.95.2 in /home/minyoungxi/.local/share/virtualenvs/LLM_Langchain_APP-7aD6jX0r/lib/python3.10/site-packages (from chromadb) (0.108.0)\n",
      "Requirement already satisfied: uvicorn>=0.18.3 in /home/minyoungxi/.local/share/virtualenvs/LLM_Langchain_APP-7aD6jX0r/lib/python3.10/site-packages (from uvicorn[standard]>=0.18.3->chromadb) (0.25.0)\n",
      "Requirement already satisfied: posthog>=2.4.0 in /home/minyoungxi/.local/share/virtualenvs/LLM_Langchain_APP-7aD6jX0r/lib/python3.10/site-packages (from chromadb) (3.3.0)\n",
      "Requirement already satisfied: typing-extensions>=4.5.0 in /home/minyoungxi/.local/share/virtualenvs/LLM_Langchain_APP-7aD6jX0r/lib/python3.10/site-packages (from chromadb) (4.8.0)\n",
      "Requirement already satisfied: pulsar-client>=3.1.0 in /home/minyoungxi/.local/share/virtualenvs/LLM_Langchain_APP-7aD6jX0r/lib/python3.10/site-packages (from chromadb) (3.4.0)\n",
      "Requirement already satisfied: onnxruntime>=1.14.1 in /home/minyoungxi/.local/share/virtualenvs/LLM_Langchain_APP-7aD6jX0r/lib/python3.10/site-packages (from chromadb) (1.15.1)\n",
      "Requirement already satisfied: opentelemetry-api>=1.2.0 in /home/minyoungxi/.local/share/virtualenvs/LLM_Langchain_APP-7aD6jX0r/lib/python3.10/site-packages (from chromadb) (1.22.0)\n",
      "Requirement already satisfied: opentelemetry-exporter-otlp-proto-grpc>=1.2.0 in /home/minyoungxi/.local/share/virtualenvs/LLM_Langchain_APP-7aD6jX0r/lib/python3.10/site-packages (from chromadb) (1.22.0)\n",
      "Requirement already satisfied: opentelemetry-instrumentation-fastapi>=0.41b0 in /home/minyoungxi/.local/share/virtualenvs/LLM_Langchain_APP-7aD6jX0r/lib/python3.10/site-packages (from chromadb) (0.43b0)\n",
      "Requirement already satisfied: opentelemetry-sdk>=1.2.0 in /home/minyoungxi/.local/share/virtualenvs/LLM_Langchain_APP-7aD6jX0r/lib/python3.10/site-packages (from chromadb) (1.22.0)\n",
      "Requirement already satisfied: tokenizers>=0.13.2 in /home/minyoungxi/.local/share/virtualenvs/LLM_Langchain_APP-7aD6jX0r/lib/python3.10/site-packages (from chromadb) (0.15.0)\n",
      "Requirement already satisfied: pypika>=0.48.9 in /home/minyoungxi/.local/share/virtualenvs/LLM_Langchain_APP-7aD6jX0r/lib/python3.10/site-packages (from chromadb) (0.48.9)\n",
      "Requirement already satisfied: tqdm>=4.65.0 in /home/minyoungxi/.local/share/virtualenvs/LLM_Langchain_APP-7aD6jX0r/lib/python3.10/site-packages (from chromadb) (4.66.1)\n",
      "Requirement already satisfied: overrides>=7.3.1 in /home/minyoungxi/.local/share/virtualenvs/LLM_Langchain_APP-7aD6jX0r/lib/python3.10/site-packages (from chromadb) (7.4.0)\n",
      "Requirement already satisfied: importlib-resources in /home/minyoungxi/.local/share/virtualenvs/LLM_Langchain_APP-7aD6jX0r/lib/python3.10/site-packages (from chromadb) (6.1.1)\n",
      "Requirement already satisfied: grpcio>=1.58.0 in /home/minyoungxi/.local/share/virtualenvs/LLM_Langchain_APP-7aD6jX0r/lib/python3.10/site-packages (from chromadb) (1.60.0)\n",
      "Requirement already satisfied: bcrypt>=4.0.1 in /home/minyoungxi/.local/share/virtualenvs/LLM_Langchain_APP-7aD6jX0r/lib/python3.10/site-packages (from chromadb) (4.1.2)\n",
      "Requirement already satisfied: typer>=0.9.0 in /home/minyoungxi/.local/share/virtualenvs/LLM_Langchain_APP-7aD6jX0r/lib/python3.10/site-packages (from chromadb) (0.9.0)\n",
      "Requirement already satisfied: kubernetes>=28.1.0 in /home/minyoungxi/.local/share/virtualenvs/LLM_Langchain_APP-7aD6jX0r/lib/python3.10/site-packages (from chromadb) (29.0.0)\n",
      "Requirement already satisfied: mmh3>=4.0.1 in /home/minyoungxi/.local/share/virtualenvs/LLM_Langchain_APP-7aD6jX0r/lib/python3.10/site-packages (from chromadb) (4.1.0)\n",
      "Requirement already satisfied: async-timeout<5.0.0,>=4.0.0 in /home/minyoungxi/.local/share/virtualenvs/LLM_Langchain_APP-7aD6jX0r/lib/python3.10/site-packages (from langchain) (4.0.3)\n",
      "Requirement already satisfied: langchain-text-splitters<0.3.0,>=0.2.0 in /home/minyoungxi/.local/share/virtualenvs/LLM_Langchain_APP-7aD6jX0r/lib/python3.10/site-packages (from langchain) (0.2.0)\n",
      "Requirement already satisfied: attrs>=17.3.0 in /home/minyoungxi/.local/share/virtualenvs/LLM_Langchain_APP-7aD6jX0r/lib/python3.10/site-packages (from aiohttp<4.0.0,>=3.8.3->langchain_community) (23.1.0)\n",
      "Requirement already satisfied: charset-normalizer<4.0,>=2.0 in /home/minyoungxi/.local/share/virtualenvs/LLM_Langchain_APP-7aD6jX0r/lib/python3.10/site-packages (from aiohttp<4.0.0,>=3.8.3->langchain_community) (3.2.0)\n",
      "Requirement already satisfied: multidict<7.0,>=4.5 in /home/minyoungxi/.local/share/virtualenvs/LLM_Langchain_APP-7aD6jX0r/lib/python3.10/site-packages (from aiohttp<4.0.0,>=3.8.3->langchain_community) (6.0.4)\n",
      "Requirement already satisfied: yarl<2.0,>=1.0 in /home/minyoungxi/.local/share/virtualenvs/LLM_Langchain_APP-7aD6jX0r/lib/python3.10/site-packages (from aiohttp<4.0.0,>=3.8.3->langchain_community) (1.9.2)\n",
      "Requirement already satisfied: frozenlist>=1.1.1 in /home/minyoungxi/.local/share/virtualenvs/LLM_Langchain_APP-7aD6jX0r/lib/python3.10/site-packages (from aiohttp<4.0.0,>=3.8.3->langchain_community) (1.4.0)\n",
      "Requirement already satisfied: aiosignal>=1.1.2 in /home/minyoungxi/.local/share/virtualenvs/LLM_Langchain_APP-7aD6jX0r/lib/python3.10/site-packages (from aiohttp<4.0.0,>=3.8.3->langchain_community) (1.3.1)\n",
      "Requirement already satisfied: packaging>=19.0 in /home/minyoungxi/.local/share/virtualenvs/LLM_Langchain_APP-7aD6jX0r/lib/python3.10/site-packages (from build>=1.0.3->chromadb) (23.2)\n",
      "Requirement already satisfied: pyproject_hooks in /home/minyoungxi/.local/share/virtualenvs/LLM_Langchain_APP-7aD6jX0r/lib/python3.10/site-packages (from build>=1.0.3->chromadb) (1.0.0)\n",
      "Requirement already satisfied: tomli>=1.1.0 in /home/minyoungxi/.local/share/virtualenvs/LLM_Langchain_APP-7aD6jX0r/lib/python3.10/site-packages (from build>=1.0.3->chromadb) (2.0.1)\n",
      "Requirement already satisfied: marshmallow<4.0.0,>=3.18.0 in /home/minyoungxi/.local/share/virtualenvs/LLM_Langchain_APP-7aD6jX0r/lib/python3.10/site-packages (from dataclasses-json<0.7,>=0.5.7->langchain_community) (3.20.1)\n",
      "Requirement already satisfied: typing-inspect<1,>=0.4.0 in /home/minyoungxi/.local/share/virtualenvs/LLM_Langchain_APP-7aD6jX0r/lib/python3.10/site-packages (from dataclasses-json<0.7,>=0.5.7->langchain_community) (0.9.0)\n",
      "Requirement already satisfied: starlette<0.33.0,>=0.29.0 in /home/minyoungxi/.local/share/virtualenvs/LLM_Langchain_APP-7aD6jX0r/lib/python3.10/site-packages (from fastapi>=0.95.2->chromadb) (0.32.0.post1)\n",
      "Requirement already satisfied: certifi>=14.05.14 in /home/minyoungxi/.local/share/virtualenvs/LLM_Langchain_APP-7aD6jX0r/lib/python3.10/site-packages (from kubernetes>=28.1.0->chromadb) (2023.7.22)\n",
      "Requirement already satisfied: six>=1.9.0 in /home/minyoungxi/.local/share/virtualenvs/LLM_Langchain_APP-7aD6jX0r/lib/python3.10/site-packages (from kubernetes>=28.1.0->chromadb) (1.16.0)\n",
      "Requirement already satisfied: python-dateutil>=2.5.3 in /home/minyoungxi/.local/share/virtualenvs/LLM_Langchain_APP-7aD6jX0r/lib/python3.10/site-packages (from kubernetes>=28.1.0->chromadb) (2.8.2)\n",
      "Requirement already satisfied: google-auth>=1.0.1 in /home/minyoungxi/.local/share/virtualenvs/LLM_Langchain_APP-7aD6jX0r/lib/python3.10/site-packages (from kubernetes>=28.1.0->chromadb) (2.26.1)\n",
      "Requirement already satisfied: websocket-client!=0.40.0,!=0.41.*,!=0.42.*,>=0.32.0 in /home/minyoungxi/.local/share/virtualenvs/LLM_Langchain_APP-7aD6jX0r/lib/python3.10/site-packages (from kubernetes>=28.1.0->chromadb) (1.7.0)\n",
      "Requirement already satisfied: requests-oauthlib in /home/minyoungxi/.local/share/virtualenvs/LLM_Langchain_APP-7aD6jX0r/lib/python3.10/site-packages (from kubernetes>=28.1.0->chromadb) (1.3.1)\n",
      "Requirement already satisfied: oauthlib>=3.2.2 in /home/minyoungxi/.local/share/virtualenvs/LLM_Langchain_APP-7aD6jX0r/lib/python3.10/site-packages (from kubernetes>=28.1.0->chromadb) (3.2.2)\n",
      "Requirement already satisfied: urllib3>=1.24.2 in /home/minyoungxi/.local/share/virtualenvs/LLM_Langchain_APP-7aD6jX0r/lib/python3.10/site-packages (from kubernetes>=28.1.0->chromadb) (2.0.4)\n",
      "Requirement already satisfied: jsonpatch<2.0,>=1.33 in /home/minyoungxi/.local/share/virtualenvs/LLM_Langchain_APP-7aD6jX0r/lib/python3.10/site-packages (from langchain-core<0.3.0,>=0.2.0->langchain_community) (1.33)\n",
      "Requirement already satisfied: orjson<4.0.0,>=3.9.14 in /home/minyoungxi/.local/share/virtualenvs/LLM_Langchain_APP-7aD6jX0r/lib/python3.10/site-packages (from langsmith<0.2.0,>=0.1.0->langchain_community) (3.10.0)\n",
      "Requirement already satisfied: coloredlogs in /home/minyoungxi/.local/share/virtualenvs/LLM_Langchain_APP-7aD6jX0r/lib/python3.10/site-packages (from onnxruntime>=1.14.1->chromadb) (15.0.1)\n",
      "Requirement already satisfied: flatbuffers in /home/minyoungxi/.local/share/virtualenvs/LLM_Langchain_APP-7aD6jX0r/lib/python3.10/site-packages (from onnxruntime>=1.14.1->chromadb) (23.5.26)\n",
      "Requirement already satisfied: protobuf in /home/minyoungxi/.local/share/virtualenvs/LLM_Langchain_APP-7aD6jX0r/lib/python3.10/site-packages (from onnxruntime>=1.14.1->chromadb) (4.25.1)\n",
      "Requirement already satisfied: sympy in /home/minyoungxi/.local/share/virtualenvs/LLM_Langchain_APP-7aD6jX0r/lib/python3.10/site-packages (from onnxruntime>=1.14.1->chromadb) (1.12)\n",
      "Requirement already satisfied: anyio<5,>=3.5.0 in /home/minyoungxi/.local/share/virtualenvs/LLM_Langchain_APP-7aD6jX0r/lib/python3.10/site-packages (from openai<2.0.0,>=1.26.0->langchain-openai) (4.2.0)\n",
      "Requirement already satisfied: distro<2,>=1.7.0 in /home/minyoungxi/.local/share/virtualenvs/LLM_Langchain_APP-7aD6jX0r/lib/python3.10/site-packages (from openai<2.0.0,>=1.26.0->langchain-openai) (1.9.0)\n",
      "Requirement already satisfied: httpx<1,>=0.23.0 in /home/minyoungxi/.local/share/virtualenvs/LLM_Langchain_APP-7aD6jX0r/lib/python3.10/site-packages (from openai<2.0.0,>=1.26.0->langchain-openai) (0.27.0)\n",
      "Requirement already satisfied: sniffio in /home/minyoungxi/.local/share/virtualenvs/LLM_Langchain_APP-7aD6jX0r/lib/python3.10/site-packages (from openai<2.0.0,>=1.26.0->langchain-openai) (1.3.0)\n",
      "Requirement already satisfied: deprecated>=1.2.6 in /home/minyoungxi/.local/share/virtualenvs/LLM_Langchain_APP-7aD6jX0r/lib/python3.10/site-packages (from opentelemetry-api>=1.2.0->chromadb) (1.2.14)\n",
      "Requirement already satisfied: importlib-metadata<7.0,>=6.0 in /home/minyoungxi/.local/share/virtualenvs/LLM_Langchain_APP-7aD6jX0r/lib/python3.10/site-packages (from opentelemetry-api>=1.2.0->chromadb) (6.11.0)\n",
      "Requirement already satisfied: backoff<3.0.0,>=1.10.0 in /home/minyoungxi/.local/share/virtualenvs/LLM_Langchain_APP-7aD6jX0r/lib/python3.10/site-packages (from opentelemetry-exporter-otlp-proto-grpc>=1.2.0->chromadb) (2.2.1)\n",
      "Requirement already satisfied: googleapis-common-protos~=1.52 in /home/minyoungxi/.local/share/virtualenvs/LLM_Langchain_APP-7aD6jX0r/lib/python3.10/site-packages (from opentelemetry-exporter-otlp-proto-grpc>=1.2.0->chromadb) (1.62.0)\n",
      "Requirement already satisfied: opentelemetry-exporter-otlp-proto-common==1.22.0 in /home/minyoungxi/.local/share/virtualenvs/LLM_Langchain_APP-7aD6jX0r/lib/python3.10/site-packages (from opentelemetry-exporter-otlp-proto-grpc>=1.2.0->chromadb) (1.22.0)\n",
      "Requirement already satisfied: opentelemetry-proto==1.22.0 in /home/minyoungxi/.local/share/virtualenvs/LLM_Langchain_APP-7aD6jX0r/lib/python3.10/site-packages (from opentelemetry-exporter-otlp-proto-grpc>=1.2.0->chromadb) (1.22.0)\n",
      "Requirement already satisfied: opentelemetry-instrumentation-asgi==0.43b0 in /home/minyoungxi/.local/share/virtualenvs/LLM_Langchain_APP-7aD6jX0r/lib/python3.10/site-packages (from opentelemetry-instrumentation-fastapi>=0.41b0->chromadb) (0.43b0)\n",
      "Requirement already satisfied: opentelemetry-instrumentation==0.43b0 in /home/minyoungxi/.local/share/virtualenvs/LLM_Langchain_APP-7aD6jX0r/lib/python3.10/site-packages (from opentelemetry-instrumentation-fastapi>=0.41b0->chromadb) (0.43b0)\n",
      "Requirement already satisfied: opentelemetry-semantic-conventions==0.43b0 in /home/minyoungxi/.local/share/virtualenvs/LLM_Langchain_APP-7aD6jX0r/lib/python3.10/site-packages (from opentelemetry-instrumentation-fastapi>=0.41b0->chromadb) (0.43b0)\n",
      "Requirement already satisfied: opentelemetry-util-http==0.43b0 in /home/minyoungxi/.local/share/virtualenvs/LLM_Langchain_APP-7aD6jX0r/lib/python3.10/site-packages (from opentelemetry-instrumentation-fastapi>=0.41b0->chromadb) (0.43b0)\n",
      "Requirement already satisfied: setuptools>=16.0 in /home/minyoungxi/.local/share/virtualenvs/LLM_Langchain_APP-7aD6jX0r/lib/python3.10/site-packages (from opentelemetry-instrumentation==0.43b0->opentelemetry-instrumentation-fastapi>=0.41b0->chromadb) (68.2.0)\n",
      "Requirement already satisfied: wrapt<2.0.0,>=1.0.0 in /home/minyoungxi/.local/share/virtualenvs/LLM_Langchain_APP-7aD6jX0r/lib/python3.10/site-packages (from opentelemetry-instrumentation==0.43b0->opentelemetry-instrumentation-fastapi>=0.41b0->chromadb) (1.16.0)\n",
      "Requirement already satisfied: asgiref~=3.0 in /home/minyoungxi/.local/share/virtualenvs/LLM_Langchain_APP-7aD6jX0r/lib/python3.10/site-packages (from opentelemetry-instrumentation-asgi==0.43b0->opentelemetry-instrumentation-fastapi>=0.41b0->chromadb) (3.7.2)\n",
      "Requirement already satisfied: monotonic>=1.5 in /home/minyoungxi/.local/share/virtualenvs/LLM_Langchain_APP-7aD6jX0r/lib/python3.10/site-packages (from posthog>=2.4.0->chromadb) (1.6)\n",
      "Requirement already satisfied: annotated-types>=0.4.0 in /home/minyoungxi/.local/share/virtualenvs/LLM_Langchain_APP-7aD6jX0r/lib/python3.10/site-packages (from pydantic>=1.9->chromadb) (0.5.0)\n",
      "Requirement already satisfied: pydantic-core==2.6.3 in /home/minyoungxi/.local/share/virtualenvs/LLM_Langchain_APP-7aD6jX0r/lib/python3.10/site-packages (from pydantic>=1.9->chromadb) (2.6.3)\n",
      "Requirement already satisfied: idna<4,>=2.5 in /home/minyoungxi/.local/share/virtualenvs/LLM_Langchain_APP-7aD6jX0r/lib/python3.10/site-packages (from requests<3,>=2->langchain_community) (3.4)\n",
      "Requirement already satisfied: greenlet!=0.4.17 in /home/minyoungxi/.local/share/virtualenvs/LLM_Langchain_APP-7aD6jX0r/lib/python3.10/site-packages (from SQLAlchemy<3,>=1.4->langchain_community) (2.0.2)\n",
      "Requirement already satisfied: huggingface_hub<1.0,>=0.16.4 in /home/minyoungxi/.local/share/virtualenvs/LLM_Langchain_APP-7aD6jX0r/lib/python3.10/site-packages (from tokenizers>=0.13.2->chromadb) (0.20.2)\n",
      "Requirement already satisfied: click<9.0.0,>=7.1.1 in /home/minyoungxi/.local/share/virtualenvs/LLM_Langchain_APP-7aD6jX0r/lib/python3.10/site-packages (from typer>=0.9.0->chromadb) (8.1.7)\n",
      "Requirement already satisfied: h11>=0.8 in /home/minyoungxi/.local/share/virtualenvs/LLM_Langchain_APP-7aD6jX0r/lib/python3.10/site-packages (from uvicorn>=0.18.3->uvicorn[standard]>=0.18.3->chromadb) (0.14.0)\n",
      "Requirement already satisfied: httptools>=0.5.0 in /home/minyoungxi/.local/share/virtualenvs/LLM_Langchain_APP-7aD6jX0r/lib/python3.10/site-packages (from uvicorn[standard]>=0.18.3->chromadb) (0.6.1)\n",
      "Requirement already satisfied: python-dotenv>=0.13 in /home/minyoungxi/.local/share/virtualenvs/LLM_Langchain_APP-7aD6jX0r/lib/python3.10/site-packages (from uvicorn[standard]>=0.18.3->chromadb) (1.0.0)\n",
      "Requirement already satisfied: uvloop!=0.15.0,!=0.15.1,>=0.14.0 in /home/minyoungxi/.local/share/virtualenvs/LLM_Langchain_APP-7aD6jX0r/lib/python3.10/site-packages (from uvicorn[standard]>=0.18.3->chromadb) (0.19.0)\n",
      "Requirement already satisfied: watchfiles>=0.13 in /home/minyoungxi/.local/share/virtualenvs/LLM_Langchain_APP-7aD6jX0r/lib/python3.10/site-packages (from uvicorn[standard]>=0.18.3->chromadb) (0.21.0)\n",
      "Requirement already satisfied: websockets>=10.4 in /home/minyoungxi/.local/share/virtualenvs/LLM_Langchain_APP-7aD6jX0r/lib/python3.10/site-packages (from uvicorn[standard]>=0.18.3->chromadb) (12.0)\n",
      "Requirement already satisfied: exceptiongroup>=1.0.2 in /home/minyoungxi/.local/share/virtualenvs/LLM_Langchain_APP-7aD6jX0r/lib/python3.10/site-packages (from anyio<5,>=3.5.0->openai<2.0.0,>=1.26.0->langchain-openai) (1.2.0)\n",
      "Requirement already satisfied: cachetools<6.0,>=2.0.0 in /home/minyoungxi/.local/share/virtualenvs/LLM_Langchain_APP-7aD6jX0r/lib/python3.10/site-packages (from google-auth>=1.0.1->kubernetes>=28.1.0->chromadb) (5.3.2)\n",
      "Requirement already satisfied: pyasn1-modules>=0.2.1 in /home/minyoungxi/.local/share/virtualenvs/LLM_Langchain_APP-7aD6jX0r/lib/python3.10/site-packages (from google-auth>=1.0.1->kubernetes>=28.1.0->chromadb) (0.3.0)\n",
      "Requirement already satisfied: rsa<5,>=3.1.4 in /home/minyoungxi/.local/share/virtualenvs/LLM_Langchain_APP-7aD6jX0r/lib/python3.10/site-packages (from google-auth>=1.0.1->kubernetes>=28.1.0->chromadb) (4.9)\n",
      "Requirement already satisfied: httpcore==1.* in /home/minyoungxi/.local/share/virtualenvs/LLM_Langchain_APP-7aD6jX0r/lib/python3.10/site-packages (from httpx<1,>=0.23.0->openai<2.0.0,>=1.26.0->langchain-openai) (1.0.5)\n",
      "Requirement already satisfied: filelock in /home/minyoungxi/.local/share/virtualenvs/LLM_Langchain_APP-7aD6jX0r/lib/python3.10/site-packages (from huggingface_hub<1.0,>=0.16.4->tokenizers>=0.13.2->chromadb) (3.13.1)\n",
      "Requirement already satisfied: fsspec>=2023.5.0 in /home/minyoungxi/.local/share/virtualenvs/LLM_Langchain_APP-7aD6jX0r/lib/python3.10/site-packages (from huggingface_hub<1.0,>=0.16.4->tokenizers>=0.13.2->chromadb) (2023.12.2)\n",
      "Requirement already satisfied: zipp>=0.5 in /home/minyoungxi/.local/share/virtualenvs/LLM_Langchain_APP-7aD6jX0r/lib/python3.10/site-packages (from importlib-metadata<7.0,>=6.0->opentelemetry-api>=1.2.0->chromadb) (3.17.0)\n",
      "Requirement already satisfied: jsonpointer>=1.9 in /home/minyoungxi/.local/share/virtualenvs/LLM_Langchain_APP-7aD6jX0r/lib/python3.10/site-packages (from jsonpatch<2.0,>=1.33->langchain-core<0.3.0,>=0.2.0->langchain_community) (2.4)\n",
      "Requirement already satisfied: mypy-extensions>=0.3.0 in /home/minyoungxi/.local/share/virtualenvs/LLM_Langchain_APP-7aD6jX0r/lib/python3.10/site-packages (from typing-inspect<1,>=0.4.0->dataclasses-json<0.7,>=0.5.7->langchain_community) (1.0.0)\n",
      "Requirement already satisfied: humanfriendly>=9.1 in /home/minyoungxi/.local/share/virtualenvs/LLM_Langchain_APP-7aD6jX0r/lib/python3.10/site-packages (from coloredlogs->onnxruntime>=1.14.1->chromadb) (10.0)\n",
      "Requirement already satisfied: mpmath>=0.19 in /home/minyoungxi/.local/share/virtualenvs/LLM_Langchain_APP-7aD6jX0r/lib/python3.10/site-packages (from sympy->onnxruntime>=1.14.1->chromadb) (1.3.0)\n",
      "Requirement already satisfied: pyasn1<0.6.0,>=0.4.6 in /home/minyoungxi/.local/share/virtualenvs/LLM_Langchain_APP-7aD6jX0r/lib/python3.10/site-packages (from pyasn1-modules>=0.2.1->google-auth>=1.0.1->kubernetes>=28.1.0->chromadb) (0.5.1)\n",
      "Downloading langchainhub-0.1.17-py3-none-any.whl (4.8 kB)\n",
      "Downloading types_requests-2.32.0.20240602-py3-none-any.whl (15 kB)\n",
      "Installing collected packages: types-requests, langchainhub\n",
      "Successfully installed langchainhub-0.1.17 types-requests-2.32.0.20240602\n"
     ]
    }
   ],
   "source": [
    "!pip install langchain_community tiktoken langchain-openai langchainhub chromadb langchain"
   ]
  },
  {
   "cell_type": "code",
   "execution_count": 1,
   "metadata": {},
   "outputs": [
    {
     "name": "stderr",
     "output_type": "stream",
     "text": [
      "WARNING:root:USER_AGENT environment variable not set, consider setting it to identify your requests.\n"
     ]
    }
   ],
   "source": [
    "import bs4\n",
    "\n",
    "from langchain import hub\n",
    "from langchain.text_splitter import RecursiveCharacterTextSplitter\n",
    "from langchain_community.document_loaders import WebBaseLoader\n",
    "from langchain_community.vectorstores import Chroma\n",
    "from langchain_core.output_parsers import StrOutputParser\n",
    "from langchain_core.runnables import RunnablePassthrough\n",
    "from langchain_openai import ChatOpenAI, OpenAIEmbeddings\n",
    "\n",
    "# Load Documents\n",
    "loader = WebBaseLoader(\n",
    "    web_paths=(\"https://lilianweng.github.io/posts/2023-06-23-agent/\",),\n",
    "    bs_kwargs=dict(\n",
    "        parse_only=bs4.SoupStrainer(\n",
    "            class_=(\"post-content\", \"post-title\", \"post-header\")\n",
    "        )\n",
    "    ),\n",
    ")\n",
    "docs = loader.load()"
   ]
  },
  {
   "cell_type": "code",
   "execution_count": 6,
   "metadata": {},
   "outputs": [],
   "source": [
    "# split \n",
    "\n",
    "text_splitter = RecursiveCharacterTextSplitter(chunk_size=1000,\n",
    "                                                chunk_overlap=200) \n",
    "\n",
    "splits = text_splitter.split_documents(docs)    "
   ]
  },
  {
   "cell_type": "code",
   "execution_count": 7,
   "metadata": {},
   "outputs": [],
   "source": [
    "# Embed \n",
    "\n",
    "vectorstore = Chroma.from_documents(documents=splits, embedding=OpenAIEmbeddings())\n",
    "\n",
    "retriever = vectorstore.as_retriever()"
   ]
  },
  {
   "cell_type": "code",
   "execution_count": 13,
   "metadata": {},
   "outputs": [],
   "source": [
    "### RETRIEVAL and GENERATION ### \n",
    "\n",
    "# Prompt \n",
    "\n",
    "prompt = hub.pull(\"rlm/rag-prompt\")\n",
    "\n",
    "# LLM \n",
    "\n",
    "llm = ChatOpenAI(model_name=\"gpt-3.5-turbo\", temperature=0)"
   ]
  },
  {
   "cell_type": "code",
   "execution_count": 14,
   "metadata": {},
   "outputs": [
    {
     "data": {
      "text/plain": [
       "'Task Decomposition is a technique used to break down complex tasks into smaller and simpler steps. This approach allows agents to better plan and execute tasks efficiently. Task decomposition can be achieved through various methods such as prompting with specific instructions or utilizing human inputs.'"
      ]
     },
     "execution_count": 14,
     "metadata": {},
     "output_type": "execute_result"
    }
   ],
   "source": [
    "# post-processing \n",
    "\n",
    "def format_docs(docs):\n",
    "    return \"\\n\\n\".join(doc.page_content for doc in docs\n",
    "    )\n",
    "\n",
    "# Chain\n",
    "\n",
    "rag_chain = (\n",
    "    {\"context\": retriever | format_docs, \"question\": RunnablePassthrough()}\n",
    "    | prompt \n",
    "    | llm\n",
    "    | StrOutputParser()\n",
    ")     \n",
    "\n",
    "# Q\n",
    "\n",
    "rag_chain.invoke(\"What is Task Decomposition?\")"
   ]
  },
  {
   "cell_type": "code",
   "execution_count": null,
   "metadata": {},
   "outputs": [],
   "source": []
  }
 ],
 "metadata": {
  "kernelspec": {
   "display_name": "LLM_Langchain_APP-7aD6jX0r",
   "language": "python",
   "name": "python3"
  },
  "language_info": {
   "codemirror_mode": {
    "name": "ipython",
    "version": 3
   },
   "file_extension": ".py",
   "mimetype": "text/x-python",
   "name": "python",
   "nbconvert_exporter": "python",
   "pygments_lexer": "ipython3",
   "version": "3.10.12"
  }
 },
 "nbformat": 4,
 "nbformat_minor": 2
}
