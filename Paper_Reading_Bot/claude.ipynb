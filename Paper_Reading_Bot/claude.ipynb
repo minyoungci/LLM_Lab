{
 "cells": [
  {
   "cell_type": "code",
   "execution_count": 2,
   "metadata": {},
   "outputs": [
    {
     "name": "stdout",
     "output_type": "stream",
     "text": [
      "Collecting langchain_anthropic\n",
      "  Downloading langchain_anthropic-0.1.17-py3-none-any.whl.metadata (2.1 kB)\n",
      "Collecting anthropic<1,>=0.28.0 (from langchain_anthropic)\n",
      "  Downloading anthropic-0.30.0-py3-none-any.whl.metadata (18 kB)\n",
      "Collecting defusedxml<0.8.0,>=0.7.1 (from langchain_anthropic)\n",
      "  Downloading defusedxml-0.7.1-py2.py3-none-any.whl.metadata (32 kB)\n",
      "Collecting langchain-core<0.3,>=0.2.10 (from langchain_anthropic)\n",
      "  Downloading langchain_core-0.2.10-py3-none-any.whl.metadata (6.0 kB)\n",
      "Requirement already satisfied: anyio<5,>=3.5.0 in /home/minyoungxi/.local/share/virtualenvs/LLM_Langchain_APP-7aD6jX0r/lib/python3.10/site-packages (from anthropic<1,>=0.28.0->langchain_anthropic) (4.2.0)\n",
      "Requirement already satisfied: distro<2,>=1.7.0 in /home/minyoungxi/.local/share/virtualenvs/LLM_Langchain_APP-7aD6jX0r/lib/python3.10/site-packages (from anthropic<1,>=0.28.0->langchain_anthropic) (1.9.0)\n",
      "Requirement already satisfied: httpx<1,>=0.23.0 in /home/minyoungxi/.local/share/virtualenvs/LLM_Langchain_APP-7aD6jX0r/lib/python3.10/site-packages (from anthropic<1,>=0.28.0->langchain_anthropic) (0.27.0)\n",
      "Collecting jiter<1,>=0.4.0 (from anthropic<1,>=0.28.0->langchain_anthropic)\n",
      "  Downloading jiter-0.5.0-cp310-cp310-manylinux_2_17_x86_64.manylinux2014_x86_64.whl.metadata (3.6 kB)\n",
      "Requirement already satisfied: pydantic<3,>=1.9.0 in /home/minyoungxi/.local/share/virtualenvs/LLM_Langchain_APP-7aD6jX0r/lib/python3.10/site-packages (from anthropic<1,>=0.28.0->langchain_anthropic) (2.3.0)\n",
      "Requirement already satisfied: sniffio in /home/minyoungxi/.local/share/virtualenvs/LLM_Langchain_APP-7aD6jX0r/lib/python3.10/site-packages (from anthropic<1,>=0.28.0->langchain_anthropic) (1.3.0)\n",
      "Requirement already satisfied: tokenizers>=0.13.0 in /home/minyoungxi/.local/share/virtualenvs/LLM_Langchain_APP-7aD6jX0r/lib/python3.10/site-packages (from anthropic<1,>=0.28.0->langchain_anthropic) (0.15.0)\n",
      "Requirement already satisfied: typing-extensions<5,>=4.7 in /home/minyoungxi/.local/share/virtualenvs/LLM_Langchain_APP-7aD6jX0r/lib/python3.10/site-packages (from anthropic<1,>=0.28.0->langchain_anthropic) (4.8.0)\n",
      "Requirement already satisfied: PyYAML>=5.3 in /home/minyoungxi/.local/share/virtualenvs/LLM_Langchain_APP-7aD6jX0r/lib/python3.10/site-packages (from langchain-core<0.3,>=0.2.10->langchain_anthropic) (6.0.1)\n",
      "Requirement already satisfied: jsonpatch<2.0,>=1.33 in /home/minyoungxi/.local/share/virtualenvs/LLM_Langchain_APP-7aD6jX0r/lib/python3.10/site-packages (from langchain-core<0.3,>=0.2.10->langchain_anthropic) (1.33)\n",
      "Requirement already satisfied: langsmith<0.2.0,>=0.1.75 in /home/minyoungxi/.local/share/virtualenvs/LLM_Langchain_APP-7aD6jX0r/lib/python3.10/site-packages (from langchain-core<0.3,>=0.2.10->langchain_anthropic) (0.1.75)\n",
      "Requirement already satisfied: packaging<25,>=23.2 in /home/minyoungxi/.local/share/virtualenvs/LLM_Langchain_APP-7aD6jX0r/lib/python3.10/site-packages (from langchain-core<0.3,>=0.2.10->langchain_anthropic) (23.2)\n",
      "Requirement already satisfied: tenacity!=8.4.0,<9.0.0,>=8.1.0 in /home/minyoungxi/.local/share/virtualenvs/LLM_Langchain_APP-7aD6jX0r/lib/python3.10/site-packages (from langchain-core<0.3,>=0.2.10->langchain_anthropic) (8.2.3)\n",
      "Requirement already satisfied: idna>=2.8 in /home/minyoungxi/.local/share/virtualenvs/LLM_Langchain_APP-7aD6jX0r/lib/python3.10/site-packages (from anyio<5,>=3.5.0->anthropic<1,>=0.28.0->langchain_anthropic) (3.4)\n",
      "Requirement already satisfied: exceptiongroup>=1.0.2 in /home/minyoungxi/.local/share/virtualenvs/LLM_Langchain_APP-7aD6jX0r/lib/python3.10/site-packages (from anyio<5,>=3.5.0->anthropic<1,>=0.28.0->langchain_anthropic) (1.2.0)\n",
      "Requirement already satisfied: certifi in /home/minyoungxi/.local/share/virtualenvs/LLM_Langchain_APP-7aD6jX0r/lib/python3.10/site-packages (from httpx<1,>=0.23.0->anthropic<1,>=0.28.0->langchain_anthropic) (2023.7.22)\n",
      "Requirement already satisfied: httpcore==1.* in /home/minyoungxi/.local/share/virtualenvs/LLM_Langchain_APP-7aD6jX0r/lib/python3.10/site-packages (from httpx<1,>=0.23.0->anthropic<1,>=0.28.0->langchain_anthropic) (1.0.5)\n",
      "Requirement already satisfied: h11<0.15,>=0.13 in /home/minyoungxi/.local/share/virtualenvs/LLM_Langchain_APP-7aD6jX0r/lib/python3.10/site-packages (from httpcore==1.*->httpx<1,>=0.23.0->anthropic<1,>=0.28.0->langchain_anthropic) (0.14.0)\n",
      "Requirement already satisfied: jsonpointer>=1.9 in /home/minyoungxi/.local/share/virtualenvs/LLM_Langchain_APP-7aD6jX0r/lib/python3.10/site-packages (from jsonpatch<2.0,>=1.33->langchain-core<0.3,>=0.2.10->langchain_anthropic) (2.4)\n",
      "Requirement already satisfied: orjson<4.0.0,>=3.9.14 in /home/minyoungxi/.local/share/virtualenvs/LLM_Langchain_APP-7aD6jX0r/lib/python3.10/site-packages (from langsmith<0.2.0,>=0.1.75->langchain-core<0.3,>=0.2.10->langchain_anthropic) (3.10.0)\n",
      "Requirement already satisfied: requests<3,>=2 in /home/minyoungxi/.local/share/virtualenvs/LLM_Langchain_APP-7aD6jX0r/lib/python3.10/site-packages (from langsmith<0.2.0,>=0.1.75->langchain-core<0.3,>=0.2.10->langchain_anthropic) (2.31.0)\n",
      "Requirement already satisfied: annotated-types>=0.4.0 in /home/minyoungxi/.local/share/virtualenvs/LLM_Langchain_APP-7aD6jX0r/lib/python3.10/site-packages (from pydantic<3,>=1.9.0->anthropic<1,>=0.28.0->langchain_anthropic) (0.5.0)\n",
      "Requirement already satisfied: pydantic-core==2.6.3 in /home/minyoungxi/.local/share/virtualenvs/LLM_Langchain_APP-7aD6jX0r/lib/python3.10/site-packages (from pydantic<3,>=1.9.0->anthropic<1,>=0.28.0->langchain_anthropic) (2.6.3)\n",
      "Requirement already satisfied: huggingface_hub<1.0,>=0.16.4 in /home/minyoungxi/.local/share/virtualenvs/LLM_Langchain_APP-7aD6jX0r/lib/python3.10/site-packages (from tokenizers>=0.13.0->anthropic<1,>=0.28.0->langchain_anthropic) (0.20.2)\n",
      "Requirement already satisfied: filelock in /home/minyoungxi/.local/share/virtualenvs/LLM_Langchain_APP-7aD6jX0r/lib/python3.10/site-packages (from huggingface_hub<1.0,>=0.16.4->tokenizers>=0.13.0->anthropic<1,>=0.28.0->langchain_anthropic) (3.13.1)\n",
      "Requirement already satisfied: fsspec>=2023.5.0 in /home/minyoungxi/.local/share/virtualenvs/LLM_Langchain_APP-7aD6jX0r/lib/python3.10/site-packages (from huggingface_hub<1.0,>=0.16.4->tokenizers>=0.13.0->anthropic<1,>=0.28.0->langchain_anthropic) (2023.12.2)\n",
      "Requirement already satisfied: tqdm>=4.42.1 in /home/minyoungxi/.local/share/virtualenvs/LLM_Langchain_APP-7aD6jX0r/lib/python3.10/site-packages (from huggingface_hub<1.0,>=0.16.4->tokenizers>=0.13.0->anthropic<1,>=0.28.0->langchain_anthropic) (4.66.1)\n",
      "Requirement already satisfied: charset-normalizer<4,>=2 in /home/minyoungxi/.local/share/virtualenvs/LLM_Langchain_APP-7aD6jX0r/lib/python3.10/site-packages (from requests<3,>=2->langsmith<0.2.0,>=0.1.75->langchain-core<0.3,>=0.2.10->langchain_anthropic) (3.2.0)\n",
      "Requirement already satisfied: urllib3<3,>=1.21.1 in /home/minyoungxi/.local/share/virtualenvs/LLM_Langchain_APP-7aD6jX0r/lib/python3.10/site-packages (from requests<3,>=2->langsmith<0.2.0,>=0.1.75->langchain-core<0.3,>=0.2.10->langchain_anthropic) (2.0.4)\n",
      "Downloading langchain_anthropic-0.1.17-py3-none-any.whl (19 kB)\n",
      "Downloading anthropic-0.30.0-py3-none-any.whl (863 kB)\n",
      "\u001b[2K   \u001b[90m━━━━━━━━━━━━━━━━━━━━━━━━━━━━━━━━━━━━━━━━\u001b[0m \u001b[32m863.5/863.5 kB\u001b[0m \u001b[31m42.0 MB/s\u001b[0m eta \u001b[36m0:00:00\u001b[0m\n",
      "\u001b[?25hDownloading defusedxml-0.7.1-py2.py3-none-any.whl (25 kB)\n",
      "Downloading langchain_core-0.2.10-py3-none-any.whl (332 kB)\n",
      "\u001b[2K   \u001b[90m━━━━━━━━━━━━━━━━━━━━━━━━━━━━━━━━━━━━━━━━\u001b[0m \u001b[32m332.8/332.8 kB\u001b[0m \u001b[31m62.6 MB/s\u001b[0m eta \u001b[36m0:00:00\u001b[0m\n",
      "\u001b[?25hDownloading jiter-0.5.0-cp310-cp310-manylinux_2_17_x86_64.manylinux2014_x86_64.whl (318 kB)\n",
      "\u001b[2K   \u001b[90m━━━━━━━━━━━━━━━━━━━━━━━━━━━━━━━━━━━━━━━━\u001b[0m \u001b[32m318.9/318.9 kB\u001b[0m \u001b[31m48.7 MB/s\u001b[0m eta \u001b[36m0:00:00\u001b[0m\n",
      "\u001b[?25hInstalling collected packages: jiter, defusedxml, langchain-core, anthropic, langchain_anthropic\n",
      "  Attempting uninstall: langchain-core\n",
      "    Found existing installation: langchain-core 0.2.5\n",
      "    Uninstalling langchain-core-0.2.5:\n",
      "      Successfully uninstalled langchain-core-0.2.5\n",
      "Successfully installed anthropic-0.30.0 defusedxml-0.7.1 jiter-0.5.0 langchain-core-0.2.10 langchain_anthropic-0.1.17\n",
      "\n",
      "\u001b[1m[\u001b[0m\u001b[34;49mnotice\u001b[0m\u001b[1;39;49m]\u001b[0m\u001b[39;49m A new release of pip is available: \u001b[0m\u001b[31;49m24.0\u001b[0m\u001b[39;49m -> \u001b[0m\u001b[32;49m24.1.1\u001b[0m\n",
      "\u001b[1m[\u001b[0m\u001b[34;49mnotice\u001b[0m\u001b[1;39;49m]\u001b[0m\u001b[39;49m To update, run: \u001b[0m\u001b[32;49mpip install --upgrade pip\u001b[0m\n"
     ]
    }
   ],
   "source": [
    "!pip install langchain_anthropic"
   ]
  },
  {
   "cell_type": "code",
   "execution_count": 3,
   "metadata": {},
   "outputs": [],
   "source": [
    "import os\n",
    "from dotenv import load_dotenv\n",
    "\n",
    "load_dotenv()  # .env 파일에서 환경 변수 로드\n",
    "\n",
    "api_key = os.getenv(\"ANTHROPIC_API_KEY\")\n",
    "\n",
    "# Claude API 초기화\n",
    "from langchain_anthropic import ChatAnthropic\n",
    "llm = ChatAnthropic(\n",
    "    model=\"claude-3-5-sonnet-20240620\",\n",
    "    anthropic_api_key=api_key,\n",
    ")"
   ]
  }
 ],
 "metadata": {
  "kernelspec": {
   "display_name": "LLM_Langchain_APP-7aD6jX0r",
   "language": "python",
   "name": "python3"
  },
  "language_info": {
   "codemirror_mode": {
    "name": "ipython",
    "version": 3
   },
   "file_extension": ".py",
   "mimetype": "text/x-python",
   "name": "python",
   "nbconvert_exporter": "python",
   "pygments_lexer": "ipython3",
   "version": "3.10.12"
  }
 },
 "nbformat": 4,
 "nbformat_minor": 2
}
